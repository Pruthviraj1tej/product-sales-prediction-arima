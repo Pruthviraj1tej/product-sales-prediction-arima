{
 "cells": [
  {
   "cell_type": "markdown",
   "id": "7f28ce0c",
   "metadata": {},
   "source": [
    "# 📈 Product Sales Forecasting using ARIMA/SARIMA"
   ]
  },
  {
   "cell_type": "markdown",
   "id": "ffb25e29",
   "metadata": {},
   "source": [
    "This notebook demonstrates time series forecasting using ARIMA and SARIMA models on sample product sales data."
   ]
  },
  {
   "cell_type": "code",
   "execution_count": null,
   "id": "5a5659c4",
   "metadata": {},
   "outputs": [],
   "source": [
    "import pandas as pd\n",
    "import matplotlib.pyplot as plt\n",
    "import statsmodels.api as sm\n",
    "from statsmodels.tsa.stattools import adfuller\n",
    "from statsmodels.graphics.tsaplots import plot_acf, plot_pacf\n",
    "from sklearn.metrics import mean_squared_error, mean_absolute_error\n",
    "import numpy as np\n",
    "\n",
    "# Load dataset\n",
    "df = pd.read_csv(\"monthly_sales.csv\", parse_dates=[\"Month\"], index_col=\"Month\")\n",
    "df.head()\n"
   ]
  },
  {
   "cell_type": "markdown",
   "id": "08311b03",
   "metadata": {},
   "source": [
    "## 📊 Visualizing the Sales Data"
   ]
  },
  {
   "cell_type": "code",
   "execution_count": null,
   "id": "f5f59d2a",
   "metadata": {},
   "outputs": [],
   "source": [
    "df['Sales'].plot(figsize=(10,5), title=\"Monthly Sales Over Time\")\n",
    "plt.ylabel(\"Sales\")\n",
    "plt.xlabel(\"Month\")\n",
    "plt.grid()\n",
    "plt.show()\n"
   ]
  },
  {
   "cell_type": "markdown",
   "id": "a2b3cbe6",
   "metadata": {},
   "source": [
    "## 📉 Check for Stationarity with Augmented Dickey-Fuller Test"
   ]
  },
  {
   "cell_type": "code",
   "execution_count": null,
   "id": "30b8a6e9",
   "metadata": {},
   "outputs": [],
   "source": [
    "result = adfuller(df['Sales'])\n",
    "print(\"ADF Statistic:\", result[0])\n",
    "print(\"p-value:\", result[1])\n"
   ]
  },
  {
   "cell_type": "markdown",
   "id": "8077a943",
   "metadata": {},
   "source": [
    "## 🔁 Differencing if not stationary"
   ]
  },
  {
   "cell_type": "code",
   "execution_count": null,
   "id": "fd4bcbc7",
   "metadata": {},
   "outputs": [],
   "source": [
    "df_diff = df['Sales'].diff().dropna()\n",
    "df_diff.plot(title=\"1st Order Differenced Series\")\n",
    "plt.grid()\n",
    "plt.show()\n"
   ]
  },
  {
   "cell_type": "markdown",
   "id": "d5915d77",
   "metadata": {},
   "source": [
    "## 🧠 ACF and PACF plots to determine parameters"
   ]
  },
  {
   "cell_type": "code",
   "execution_count": null,
   "id": "2335b337",
   "metadata": {},
   "outputs": [],
   "source": [
    "plot_acf(df_diff)\n",
    "plot_pacf(df_diff)\n",
    "plt.show()\n"
   ]
  },
  {
   "cell_type": "markdown",
   "id": "46e1bfab",
   "metadata": {},
   "source": [
    "## 📦 Fit ARIMA Model"
   ]
  },
  {
   "cell_type": "code",
   "execution_count": null,
   "id": "bf8c7806",
   "metadata": {},
   "outputs": [],
   "source": [
    "model = sm.tsa.ARIMA(df['Sales'], order=(1,1,1))\n",
    "model_fit = model.fit()\n",
    "print(model_fit.summary())\n"
   ]
  },
  {
   "cell_type": "markdown",
   "id": "292c8e8b",
   "metadata": {},
   "source": [
    "## 🔮 Forecasting"
   ]
  },
  {
   "cell_type": "code",
   "execution_count": null,
   "id": "0a48d623",
   "metadata": {},
   "outputs": [],
   "source": [
    "forecast = model_fit.forecast(steps=12)\n",
    "plt.figure(figsize=(10,5))\n",
    "plt.plot(df.index, df['Sales'], label=\"Original\")\n",
    "plt.plot(pd.date_range(df.index[-1], periods=12, freq='M'), forecast, label=\"Forecast\")\n",
    "plt.legend()\n",
    "plt.grid()\n",
    "plt.title(\"12-Month Sales Forecast\")\n",
    "plt.show()\n"
   ]
  },
  {
   "cell_type": "markdown",
   "id": "a795a917",
   "metadata": {},
   "source": [
    "## 📏 Evaluation (on last few known points)"
   ]
  },
  {
   "cell_type": "code",
   "execution_count": null,
   "id": "2f96cc1b",
   "metadata": {},
   "outputs": [],
   "source": [
    "train = df[:-12]\n",
    "test = df[-12:]\n",
    "model = sm.tsa.ARIMA(train['Sales'], order=(1,1,1))\n",
    "model_fit = model.fit()\n",
    "preds = model_fit.forecast(steps=12)\n",
    "\n",
    "rmse = np.sqrt(mean_squared_error(test['Sales'], preds))\n",
    "mae = mean_absolute_error(test['Sales'], preds)\n",
    "print(f\"RMSE: {rmse:.2f}, MAE: {mae:.2f}\")\n"
   ]
  }
 ],
 "metadata": {},
 "nbformat": 4,
 "nbformat_minor": 5
}
